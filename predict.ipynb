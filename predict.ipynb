{
 "cells": [
  {
   "cell_type": "code",
   "execution_count": 1,
   "metadata": {},
   "outputs": [],
   "source": [
    "from database import * \n",
    "import numpy as np\n",
    "import pandas as pd\n",
    "import os\n",
    "import ast\n",
    "import matplotlib.pyplot as plt\n",
    "\n",
    "type_all = execute_sql('select name from type', 1)[0]\n",
    "actor_all = execute_sql('select name from actor', 1)[0]\n",
    "director_all = execute_sql('select name from director', 1)[0]\n",
    "month = [i for i in range(1, 13)]\n",
    "\n",
    "W = [1, 6, 3.5, 0.5]\n"
   ]
  },
  {
   "cell_type": "code",
   "execution_count": 2,
   "metadata": {},
   "outputs": [],
   "source": [
    "\n",
    "def binary_rep(list):\n",
    "    return [\n",
    "        [1 if item in list[0] else 0 for item in type_all],\n",
    "        [1 if item in list[1] else 0 for item in actor_all],\n",
    "        [1 if item in list[2] else 0 for item in director_all],\n",
    "        list[3]\n",
    "    ]\n",
    "    \n",
    "def month_diff(m1, m2):\n",
    "    if m1 < m2:\n",
    "        m1, m2 = m2, m1\n",
    "    return 1 - min(m1 - m2, m2 + 12 - m1) / 12 "
   ]
  },
  {
   "cell_type": "code",
   "execution_count": 3,
   "metadata": {},
   "outputs": [],
   "source": [
    "def similarity(A, B):\n",
    "    res = []\n",
    "    for i in range(3):\n",
    "        res.append(np.dot(A[i], B[i])/(np.linalg.norm(A[i]) * np.linalg.norm(B[i])))\n",
    "    res.append(month_diff(A[3], B[3]))\n",
    "    \n",
    "    # 加权平均\n",
    "    return np.dot(W, res)\n"
   ]
  },
  {
   "cell_type": "code",
   "execution_count": 4,
   "metadata": {},
   "outputs": [
    {
     "data": {
      "text/plain": [
       "5.574914957130529"
      ]
     },
     "execution_count": 4,
     "metadata": {},
     "output_type": "execute_result"
    }
   ],
   "source": [
    "# TEST\n",
    "similarity_1 = similarity(\n",
    "    binary_rep(\n",
    "            [\n",
    "                ['动画', '剧情'], \n",
    "                ['吴京', '易烊千玺', '沈腾', '尼古拉斯·卡斯柯恩'],\n",
    "                ['徐克', '姜文'],\n",
    "                10\n",
    "            ]),   \n",
    "    binary_rep(\n",
    "            [\n",
    "                ['爱情', '剧情', '奇幻'], \n",
    "                ['吴京', '沈腾', '彭于晏', '伯纳德·希尔'],\n",
    "                ['姜文', '贾玲'],\n",
    "                8\n",
    "            ])\n",
    "    )\n",
    "similarity_1\n"
   ]
  },
  {
   "cell_type": "code",
   "execution_count": 5,
   "metadata": {},
   "outputs": [],
   "source": [
    "# 修改前:\n",
    "# if not os.path.isfile('../csv/binary_data.csv'):\n",
    "#     df = pd.read_csv('../csv/猫眼_豆瓣.csv')\n",
    "\n",
    "# 修改后:\n",
    "if not os.path.isfile('./csv/binary_data.csv'): # 修正路径\n",
    "    df = pd.read_csv('./csv/猫眼_豆瓣_整合数据.csv') # 修正路径\n",
    "    data = []\n",
    "    for row in df.values:\n",
    "        movie = []\n",
    "        # 注意: row[1] 到 row[10] 是根据你之前提供的列名和索引推断的。\n",
    "        # 如果你的实际猫眼_豆瓣.csv列顺序有变动，请调整这里的索引。\n",
    "        # '电影名', '上映日期', '票房(万元)', '平均票价', '场均人数', '豆瓣评分', '豆瓣评论数', '导演', '演员', '类型', '地区', '语言', '时长'\n",
    "        # name, date, money, director, actor, type = (row[1], row[2], row[3], row[8], row[9], row[10])\n",
    "        # 根据你之前提供的列名：\n",
    "        # 电影名 (0), 上映日期 (1), 票房(万元) (2), 平均票价 (3), 场均人数 (4), 豆瓣评分 (5), 豆瓣评论数 (6), 导演 (7), 演员 (8), 类型 (9), 地区 (10), 语言 (11), 时长 (12)\n",
    "        # 应该是: name, date, money, director, actor, type = (row[0], row[1], row[2], row[7], row[8], row[9])\n",
    "        # 请根据你的实际数据，如果列名是中文，可能需要用 df['列名'] 而不是 row[索引]\n",
    "        name, date, money, director, actor, movie_type = (row[0], row[1], row[2], row[7], row[8], row[9])\n",
    "        \n",
    "        # 进一步检查 director, actor, movie_type 是否已经是列表类型，如果不是，需要 ast.literal_eval\n",
    "        try:\n",
    "            director_list = ast.literal_eval(director) if isinstance(director, str) else []\n",
    "            actor_list = ast.literal_eval(actor) if isinstance(actor, str) else []\n",
    "            movie_type_list = ast.literal_eval(movie_type) if isinstance(movie_type, str) else []\n",
    "        except (ValueError, SyntaxError):\n",
    "            print(f\"Warning: Could not parse list for movie {name}. Using empty list.\")\n",
    "            director_list = []\n",
    "            actor_list = []\n",
    "            movie_type_list = []\n",
    "\n",
    "        year, month, day = date.split('-')\n",
    "        \n",
    "        # 修正 binary_rep 函数的调用，传递解析后的列表\n",
    "        movie = binary_rep([movie_type_list, actor_list, director_list, int(month)])\n",
    "        \n",
    "        # print(movie)\n",
    "        movie.append(money)\n",
    "        movie.append(int(year))\n",
    "        movie.append(name)\n",
    "        data.append(movie)\n",
    "\n",
    "    data = pd.DataFrame(data, columns=['type', 'actor', 'director', 'month', 'money', 'year', 'name'])\n",
    "    data.to_csv('./csv/binary_data.csv', index=False) # 修正路径，并添加 index=False"
   ]
  },
  {
   "cell_type": "code",
   "execution_count": 6,
   "metadata": {},
   "outputs": [
    {
     "ename": "OperationalError",
     "evalue": "(1054, \"Unknown column 'date' in 'field list'\")",
     "output_type": "error",
     "traceback": [
      "\u001b[1;31m---------------------------------------------------------------------------\u001b[0m",
      "\u001b[1;31mOperationalError\u001b[0m                          Traceback (most recent call last)",
      "Cell \u001b[1;32mIn[6], line 9\u001b[0m\n\u001b[0;32m      1\u001b[0m \u001b[38;5;28;01mfrom\u001b[39;00m \u001b[38;5;21;01msklearn\u001b[39;00m\u001b[38;5;21;01m.\u001b[39;00m\u001b[38;5;21;01mlinear_model\u001b[39;00m \u001b[38;5;28;01mimport\u001b[39;00m LinearRegression \n\u001b[0;32m      4\u001b[0m sql \u001b[38;5;241m=\u001b[39m  \u001b[38;5;124m'\u001b[39m\u001b[38;5;124mselect  substr(date,1,4)  year, avg(money) count \u001b[39m\u001b[38;5;130;01m\\\u001b[39;00m\n\u001b[0;32m      5\u001b[0m \u001b[38;5;124m        from type t left outer join maoyan_movie_type mt on t.id = mt.type_id join maoyan_movie m on m.id = mt.maoyan_id\u001b[39m\u001b[38;5;130;01m\\\u001b[39;00m\n\u001b[0;32m      6\u001b[0m \u001b[38;5;124m        group by  year\u001b[39m\u001b[38;5;130;01m\\\u001b[39;00m\n\u001b[0;32m      7\u001b[0m \u001b[38;5;124m        order by  year\u001b[39m\u001b[38;5;130;01m\\\u001b[39;00m\n\u001b[0;32m      8\u001b[0m \u001b[38;5;124m        limit 1, 14\u001b[39m\u001b[38;5;124m'\u001b[39m\n\u001b[1;32m----> 9\u001b[0m x, y \u001b[38;5;241m=\u001b[39m execute_sql(sql, \u001b[38;5;241m2\u001b[39m)\n\u001b[0;32m     10\u001b[0m y \u001b[38;5;241m=\u001b[39m [\u001b[38;5;28mfloat\u001b[39m(i) \u001b[38;5;28;01mfor\u001b[39;00m i \u001b[38;5;129;01min\u001b[39;00m y]\n\u001b[0;32m     11\u001b[0m x \u001b[38;5;241m=\u001b[39m np\u001b[38;5;241m.\u001b[39marray(x,dtype\u001b[38;5;241m=\u001b[39m\u001b[38;5;28mint\u001b[39m)\n",
      "File \u001b[1;32mD:\\work\\python\\douban-master\\src\\database.py:216\u001b[0m, in \u001b[0;36mexecute_sql\u001b[1;34m(sql, param_num)\u001b[0m\n\u001b[0;32m    211\u001b[0m \u001b[38;5;28;01mdef\u001b[39;00m \u001b[38;5;21mexecute_sql\u001b[39m(sql: \u001b[38;5;28mstr\u001b[39m, param_num: \u001b[38;5;28mint\u001b[39m) \u001b[38;5;241m-\u001b[39m\u001b[38;5;241m>\u001b[39m \u001b[38;5;28mlist\u001b[39m[\u001b[38;5;28mlist\u001b[39m]:\n\u001b[0;32m    212\u001b[0m \u001b[38;5;250m    \u001b[39m\u001b[38;5;124;03m\"\"\"\u001b[39;00m\n\u001b[0;32m    213\u001b[0m \u001b[38;5;124;03m    运行SQL，返回指定数目的参数列表。\u001b[39;00m\n\u001b[0;32m    214\u001b[0m \u001b[38;5;124;03m    （此函数在当前 main.py 中似乎未直接使用，但保留其原有功能）\u001b[39;00m\n\u001b[0;32m    215\u001b[0m \u001b[38;5;124;03m    \"\"\"\u001b[39;00m\n\u001b[1;32m--> 216\u001b[0m     cursor\u001b[38;5;241m.\u001b[39mexecute(sql)\n\u001b[0;32m    217\u001b[0m     params \u001b[38;5;241m=\u001b[39m [[] \u001b[38;5;28;01mfor\u001b[39;00m _ \u001b[38;5;129;01min\u001b[39;00m \u001b[38;5;28mrange\u001b[39m(param_num)]  \u001b[38;5;66;03m# 使用 _ 作为循环变量\u001b[39;00m\n\u001b[0;32m    219\u001b[0m     results \u001b[38;5;241m=\u001b[39m cursor\u001b[38;5;241m.\u001b[39mfetchall()  \u001b[38;5;66;03m# 获取所有结果\u001b[39;00m\n",
      "File \u001b[1;32mD:\\Users\\AroundZ\\anaconda3\\Lib\\site-packages\\pymysql\\cursors.py:153\u001b[0m, in \u001b[0;36mCursor.execute\u001b[1;34m(self, query, args)\u001b[0m\n\u001b[0;32m    149\u001b[0m     \u001b[38;5;28;01mpass\u001b[39;00m\n\u001b[0;32m    151\u001b[0m query \u001b[38;5;241m=\u001b[39m \u001b[38;5;28mself\u001b[39m\u001b[38;5;241m.\u001b[39mmogrify(query, args)\n\u001b[1;32m--> 153\u001b[0m result \u001b[38;5;241m=\u001b[39m \u001b[38;5;28mself\u001b[39m\u001b[38;5;241m.\u001b[39m_query(query)\n\u001b[0;32m    154\u001b[0m \u001b[38;5;28mself\u001b[39m\u001b[38;5;241m.\u001b[39m_executed \u001b[38;5;241m=\u001b[39m query\n\u001b[0;32m    155\u001b[0m \u001b[38;5;28;01mreturn\u001b[39;00m result\n",
      "File \u001b[1;32mD:\\Users\\AroundZ\\anaconda3\\Lib\\site-packages\\pymysql\\cursors.py:322\u001b[0m, in \u001b[0;36mCursor._query\u001b[1;34m(self, q)\u001b[0m\n\u001b[0;32m    320\u001b[0m conn \u001b[38;5;241m=\u001b[39m \u001b[38;5;28mself\u001b[39m\u001b[38;5;241m.\u001b[39m_get_db()\n\u001b[0;32m    321\u001b[0m \u001b[38;5;28mself\u001b[39m\u001b[38;5;241m.\u001b[39m_clear_result()\n\u001b[1;32m--> 322\u001b[0m conn\u001b[38;5;241m.\u001b[39mquery(q)\n\u001b[0;32m    323\u001b[0m \u001b[38;5;28mself\u001b[39m\u001b[38;5;241m.\u001b[39m_do_get_result()\n\u001b[0;32m    324\u001b[0m \u001b[38;5;28;01mreturn\u001b[39;00m \u001b[38;5;28mself\u001b[39m\u001b[38;5;241m.\u001b[39mrowcount\n",
      "File \u001b[1;32mD:\\Users\\AroundZ\\anaconda3\\Lib\\site-packages\\pymysql\\connections.py:563\u001b[0m, in \u001b[0;36mConnection.query\u001b[1;34m(self, sql, unbuffered)\u001b[0m\n\u001b[0;32m    561\u001b[0m     sql \u001b[38;5;241m=\u001b[39m sql\u001b[38;5;241m.\u001b[39mencode(\u001b[38;5;28mself\u001b[39m\u001b[38;5;241m.\u001b[39mencoding, \u001b[38;5;124m\"\u001b[39m\u001b[38;5;124msurrogateescape\u001b[39m\u001b[38;5;124m\"\u001b[39m)\n\u001b[0;32m    562\u001b[0m \u001b[38;5;28mself\u001b[39m\u001b[38;5;241m.\u001b[39m_execute_command(COMMAND\u001b[38;5;241m.\u001b[39mCOM_QUERY, sql)\n\u001b[1;32m--> 563\u001b[0m \u001b[38;5;28mself\u001b[39m\u001b[38;5;241m.\u001b[39m_affected_rows \u001b[38;5;241m=\u001b[39m \u001b[38;5;28mself\u001b[39m\u001b[38;5;241m.\u001b[39m_read_query_result(unbuffered\u001b[38;5;241m=\u001b[39munbuffered)\n\u001b[0;32m    564\u001b[0m \u001b[38;5;28;01mreturn\u001b[39;00m \u001b[38;5;28mself\u001b[39m\u001b[38;5;241m.\u001b[39m_affected_rows\n",
      "File \u001b[1;32mD:\\Users\\AroundZ\\anaconda3\\Lib\\site-packages\\pymysql\\connections.py:825\u001b[0m, in \u001b[0;36mConnection._read_query_result\u001b[1;34m(self, unbuffered)\u001b[0m\n\u001b[0;32m    823\u001b[0m \u001b[38;5;28;01melse\u001b[39;00m:\n\u001b[0;32m    824\u001b[0m     result \u001b[38;5;241m=\u001b[39m MySQLResult(\u001b[38;5;28mself\u001b[39m)\n\u001b[1;32m--> 825\u001b[0m     result\u001b[38;5;241m.\u001b[39mread()\n\u001b[0;32m    826\u001b[0m \u001b[38;5;28mself\u001b[39m\u001b[38;5;241m.\u001b[39m_result \u001b[38;5;241m=\u001b[39m result\n\u001b[0;32m    827\u001b[0m \u001b[38;5;28;01mif\u001b[39;00m result\u001b[38;5;241m.\u001b[39mserver_status \u001b[38;5;129;01mis\u001b[39;00m \u001b[38;5;129;01mnot\u001b[39;00m \u001b[38;5;28;01mNone\u001b[39;00m:\n",
      "File \u001b[1;32mD:\\Users\\AroundZ\\anaconda3\\Lib\\site-packages\\pymysql\\connections.py:1199\u001b[0m, in \u001b[0;36mMySQLResult.read\u001b[1;34m(self)\u001b[0m\n\u001b[0;32m   1197\u001b[0m \u001b[38;5;28;01mdef\u001b[39;00m \u001b[38;5;21mread\u001b[39m(\u001b[38;5;28mself\u001b[39m):\n\u001b[0;32m   1198\u001b[0m     \u001b[38;5;28;01mtry\u001b[39;00m:\n\u001b[1;32m-> 1199\u001b[0m         first_packet \u001b[38;5;241m=\u001b[39m \u001b[38;5;28mself\u001b[39m\u001b[38;5;241m.\u001b[39mconnection\u001b[38;5;241m.\u001b[39m_read_packet()\n\u001b[0;32m   1201\u001b[0m         \u001b[38;5;28;01mif\u001b[39;00m first_packet\u001b[38;5;241m.\u001b[39mis_ok_packet():\n\u001b[0;32m   1202\u001b[0m             \u001b[38;5;28mself\u001b[39m\u001b[38;5;241m.\u001b[39m_read_ok_packet(first_packet)\n",
      "File \u001b[1;32mD:\\Users\\AroundZ\\anaconda3\\Lib\\site-packages\\pymysql\\connections.py:775\u001b[0m, in \u001b[0;36mConnection._read_packet\u001b[1;34m(self, packet_type)\u001b[0m\n\u001b[0;32m    773\u001b[0m     \u001b[38;5;28;01mif\u001b[39;00m \u001b[38;5;28mself\u001b[39m\u001b[38;5;241m.\u001b[39m_result \u001b[38;5;129;01mis\u001b[39;00m \u001b[38;5;129;01mnot\u001b[39;00m \u001b[38;5;28;01mNone\u001b[39;00m \u001b[38;5;129;01mand\u001b[39;00m \u001b[38;5;28mself\u001b[39m\u001b[38;5;241m.\u001b[39m_result\u001b[38;5;241m.\u001b[39munbuffered_active \u001b[38;5;129;01mis\u001b[39;00m \u001b[38;5;28;01mTrue\u001b[39;00m:\n\u001b[0;32m    774\u001b[0m         \u001b[38;5;28mself\u001b[39m\u001b[38;5;241m.\u001b[39m_result\u001b[38;5;241m.\u001b[39munbuffered_active \u001b[38;5;241m=\u001b[39m \u001b[38;5;28;01mFalse\u001b[39;00m\n\u001b[1;32m--> 775\u001b[0m     packet\u001b[38;5;241m.\u001b[39mraise_for_error()\n\u001b[0;32m    776\u001b[0m \u001b[38;5;28;01mreturn\u001b[39;00m packet\n",
      "File \u001b[1;32mD:\\Users\\AroundZ\\anaconda3\\Lib\\site-packages\\pymysql\\protocol.py:219\u001b[0m, in \u001b[0;36mMysqlPacket.raise_for_error\u001b[1;34m(self)\u001b[0m\n\u001b[0;32m    217\u001b[0m \u001b[38;5;28;01mif\u001b[39;00m DEBUG:\n\u001b[0;32m    218\u001b[0m     \u001b[38;5;28mprint\u001b[39m(\u001b[38;5;124m\"\u001b[39m\u001b[38;5;124merrno =\u001b[39m\u001b[38;5;124m\"\u001b[39m, errno)\n\u001b[1;32m--> 219\u001b[0m err\u001b[38;5;241m.\u001b[39mraise_mysql_exception(\u001b[38;5;28mself\u001b[39m\u001b[38;5;241m.\u001b[39m_data)\n",
      "File \u001b[1;32mD:\\Users\\AroundZ\\anaconda3\\Lib\\site-packages\\pymysql\\err.py:150\u001b[0m, in \u001b[0;36mraise_mysql_exception\u001b[1;34m(data)\u001b[0m\n\u001b[0;32m    148\u001b[0m \u001b[38;5;28;01mif\u001b[39;00m errorclass \u001b[38;5;129;01mis\u001b[39;00m \u001b[38;5;28;01mNone\u001b[39;00m:\n\u001b[0;32m    149\u001b[0m     errorclass \u001b[38;5;241m=\u001b[39m InternalError \u001b[38;5;28;01mif\u001b[39;00m errno \u001b[38;5;241m<\u001b[39m \u001b[38;5;241m1000\u001b[39m \u001b[38;5;28;01melse\u001b[39;00m OperationalError\n\u001b[1;32m--> 150\u001b[0m \u001b[38;5;28;01mraise\u001b[39;00m errorclass(errno, errval)\n",
      "\u001b[1;31mOperationalError\u001b[0m: (1054, \"Unknown column 'date' in 'field list'\")"
     ]
    }
   ],
   "source": [
    "from sklearn.linear_model import LinearRegression \n",
    "\n",
    "\n",
    "sql =  'select  substr(date,1,4)  year, avg(money) count \\\n",
    "        from type t left outer join maoyan_movie_type mt on t.id = mt.type_id join maoyan_movie m on m.id = mt.maoyan_id\\\n",
    "        group by  year\\\n",
    "        order by  year\\\n",
    "        limit 1, 14'\n",
    "x, y = execute_sql(sql, 2)\n",
    "y = [float(i) for i in y]\n",
    "x = np.array(x,dtype=int)\n",
    "y = np.array(y,dtype=float)\n",
    "\n",
    "reg = LinearRegression().fit(x.reshape(-1, 1), y.reshape(-1, 1))\n",
    "\n",
    "\n",
    "plt.figure(figsize=(12, 3.5))\n",
    "plt.scatter(x, y,  color='black')\n",
    "plt.plot(x, reg.predict(x.reshape(-1, 1)), color='red', linewidth=1)\n",
    "plt.show()\n",
    "\n",
    "\n"
   ]
  },
  {
   "cell_type": "code",
   "execution_count": null,
   "metadata": {},
   "outputs": [],
   "source": [
    "# 修改前:\n",
    "# data = pd.read_csv('../csv/binary_data.csv')\n",
    "\n",
    "# 修改后:\n",
    "def predict(movie):\n",
    "    movie = binary_rep(movie)\n",
    "    data = pd.read_csv('./csv/binary_data.csv') # 修正路径\n",
    "    \n",
    "    res = []\n",
    "    for item in data.values:\n",
    "        # 这里也需要 ast.literal_eval 来正确解析字符串列表\n",
    "        type_data = ast.literal_eval(item[1]) if isinstance(item[1], str) else []\n",
    "        actor_data = ast.literal_eval(item[2]) if isinstance(item[2], str) else []\n",
    "        director_data = ast.literal_eval(item[3]) if isinstance(item[3], str) else []\n",
    "        \n",
    "        month, money, year, name = item[4], int(item[5]), int(item[6]), item[7]\n",
    "        \n",
    "        # 传递解析后的列表\n",
    "        res.append((similarity(movie, [type_data, actor_data, director_data, month]), money, year, name))\n",
    "    \n",
    "    res.sort(key=lambda x : -x[0])\n",
    "    \n",
    "    predict_val = 0\n",
    "    cnt = 0\n",
    "    for i in range(5):\n",
    "        if res[i][0] <= 2:\n",
    "            break\n",
    "        cnt += 1\n",
    "        predict_val += res[i][1] * reg.predict([[2023]]) / reg.predict([[res[i][2]]])\n",
    "        \n",
    "        print(res[i])\n",
    "        \n",
    "    return predict_val[0][0] / cnt\n"
   ]
  },
  {
   "cell_type": "code",
   "execution_count": null,
   "metadata": {},
   "outputs": [],
   "source": [
    "movie = [\n",
    "    ['剧情', '历史'],\n",
    "    ['吴京', '包贝尔', '易烊千玺', '邓超', '欧豪', '雷佳音', '郭京飞'],\n",
    "    ['徐克', '吴京'],\n",
    "    2\n",
    "]\n",
    "\n",
    "predict(movie)"
   ]
  },
  {
   "cell_type": "code",
   "execution_count": null,
   "metadata": {},
   "outputs": [],
   "source": [
    "movie = [\n",
    "    ['爱情', '喜剧'],\n",
    "    ['韩庚', '郑恺', '于文文', '刘雅瑟', '张天爱'],\n",
    "    ['田羽生'],\n",
    "    10\n",
    "]\n",
    "\n",
    "predict(movie)"
   ]
  },
  {
   "cell_type": "code",
   "execution_count": null,
   "metadata": {},
   "outputs": [],
   "source": []
  }
 ],
 "metadata": {
  "kernelspec": {
   "display_name": "Python 3 (ipykernel)",
   "language": "python",
   "name": "python3"
  },
  "language_info": {
   "codemirror_mode": {
    "name": "ipython",
    "version": 3
   },
   "file_extension": ".py",
   "mimetype": "text/x-python",
   "name": "python",
   "nbconvert_exporter": "python",
   "pygments_lexer": "ipython3",
   "version": "3.12.4"
  },
  "vscode": {
   "interpreter": {
    "hash": "6a018d3a992d78c184ccc94ab54168c7b26325ed3c2283926339c3edbf5487e7"
   }
  }
 },
 "nbformat": 4,
 "nbformat_minor": 4
}
